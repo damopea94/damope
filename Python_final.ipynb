{
  "nbformat": 4,
  "nbformat_minor": 0,
  "metadata": {
    "colab": {
      "name": "Python final",
      "provenance": [],
      "authorship_tag": "ABX9TyNq2Xmwr3vmaLU9y2kehq+i",
      "include_colab_link": true
    },
    "kernelspec": {
      "name": "python3",
      "display_name": "Python 3"
    }
  },
  "cells": [
    {
      "cell_type": "markdown",
      "metadata": {
        "id": "view-in-github",
        "colab_type": "text"
      },
      "source": [
        "<a href=\"https://colab.research.google.com/github/damopea94/damope/blob/master/Python_final.ipynb\" target=\"_parent\"><img src=\"https://colab.research.google.com/assets/colab-badge.svg\" alt=\"Open In Colab\"/></a>"
      ]
    },
    {
      "cell_type": "code",
      "metadata": {
        "id": "ZqdUqYnzLgOt",
        "colab_type": "code",
        "colab": {
          "base_uri": "https://localhost:8080/",
          "height": 51
        },
        "outputId": "675570f3-ba99-45b8-f26f-2b1002272b9e"
      },
      "source": [
        "def print_name(name):\n",
        "    print(name)\n",
        "\n",
        "\n",
        "name = str(input(\"Please input a string:\"))\n",
        "print_name(name)"
      ],
      "execution_count": 1,
      "outputs": [
        {
          "output_type": "stream",
          "text": [
            "Please input a string:HELLO WORLD\n",
            "HELLO WORLD\n"
          ],
          "name": "stdout"
        }
      ]
    },
    {
      "cell_type": "code",
      "metadata": {
        "id": "UmudMj48Lybs",
        "colab_type": "code",
        "colab": {
          "base_uri": "https://localhost:8080/",
          "height": 34
        },
        "outputId": "7db0b38f-800b-45fe-8a39-3efa6f3b643b"
      },
      "source": [
        "sum=0\n",
        "#this will add the even number\n",
        "for number in range(1,1001):\n",
        "    if number%2==0:\n",
        "        sum=sum+number\n",
        "\n",
        "print(\"sum of even number of 1-10001 is :\",sum)"
      ],
      "execution_count": 2,
      "outputs": [
        {
          "output_type": "stream",
          "text": [
            "sum of even number of 1-10001 is : 250500\n"
          ],
          "name": "stdout"
        }
      ]
    },
    {
      "cell_type": "code",
      "metadata": {
        "id": "ppy1Xk9vL42X",
        "colab_type": "code",
        "colab": {
          "base_uri": "https://localhost:8080/",
          "height": 34
        },
        "outputId": "23d03e02-2de6-4d59-e99a-e6207f9dd394"
      },
      "source": [
        "#this method will do the product of all the numbers one by one and return that\n",
        "def get_product(lists):\n",
        "    if type(lists) != list:\n",
        "        return lists\n",
        "    if not lists:\n",
        "        return 1\n",
        "    return get_product(lists[0]) * get_product(lists[1:])\n",
        "\n",
        "\n",
        "print(get_product([12,10,3,2,[6,[7,8,9],19,21],21]))\n",
        "\n"
      ],
      "execution_count": 3,
      "outputs": [
        {
          "output_type": "stream",
          "text": [
            "18243429120\n"
          ],
          "name": "stdout"
        }
      ]
    },
    {
      "cell_type": "code",
      "metadata": {
        "id": "YcQiiHLEL_d_",
        "colab_type": "code",
        "colab": {
          "base_uri": "https://localhost:8080/",
          "height": 34
        },
        "outputId": "530c7633-ea87-4827-c4cb-09188445eb84"
      },
      "source": [
        "matrix=[]\n",
        "#this method will convert the list to array and write the data in the txt file\n",
        "def convert(lists):\n",
        "    for row in lists:\n",
        "        data=row\n",
        "        column=[]\n",
        "        for number in data:\n",
        "            if int (number)>20:\n",
        "                column.append(0)\n",
        "            else :\n",
        "                column.append(number)\n",
        "        matrix.append(column);\n",
        "    print(matrix)\n",
        "    file = open(\"results.txt\",\"w\")\n",
        "    file.write(\"[\")\n",
        "    count=0;\n",
        "    for row in matrix:\n",
        "        data=row\n",
        "        file.write(\"[\")\n",
        "        for number in data:\n",
        "            file.write(\" \"+str(number))\n",
        "\n",
        "        count+=1;\n",
        "        if count!=len(matrix):\n",
        "            file.write(\"]\\n\")\n",
        "        else:\n",
        "            file.write(\"]\")\n",
        "    file.writelines(\"]\")\n",
        "    file.close()\n",
        "convert([[23,43,12],[32,12,52],[15,35,52],[19,28,56]])\n"
      ],
      "execution_count": 4,
      "outputs": [
        {
          "output_type": "stream",
          "text": [
            "[[0, 0, 12], [0, 12, 0], [15, 0, 0], [19, 0, 0]]\n"
          ],
          "name": "stdout"
        }
      ]
    },
    {
      "cell_type": "code",
      "metadata": {
        "id": "xgIPiQAhME_U",
        "colab_type": "code",
        "colab": {
          "base_uri": "https://localhost:8080/",
          "height": 119
        },
        "outputId": "5b9183f9-a4c2-4222-a84c-87a3f30c90ac"
      },
      "source": [
        "#this method will coun the number of frqueies of number in the list\n",
        "def count_frequency(numbers):\n",
        "    frequencies={}\n",
        "    index = 0;\n",
        "    for number in numbers:\n",
        "        count=0;\n",
        "        for num in range(index,len(numbers)):\n",
        "            if number == numbers[num]:\n",
        "                count+=1;\n",
        "\n",
        "        if count==1:\n",
        "            frequency = 0\n",
        "            for occurance in numbers:\n",
        "                if occurance==number:\n",
        "                    frequency+=1\n",
        "\n",
        "            frequencies[number]=frequency\n",
        "        index+=1\n",
        "    return frequencies\n",
        "\n",
        "\n",
        "frequencies=count_frequency([1,3,2,4,2,3,2,2,3,2,2,4,2,32,3,2,4,2,3,5,3,2,4,2,2,4,2,2,4,2,2,3,1,3,2,3])\n",
        "for row in frequencies:\n",
        "    print(row,frequencies[row])\n",
        "\n",
        "\n"
      ],
      "execution_count": 5,
      "outputs": [
        {
          "output_type": "stream",
          "text": [
            "32 1\n",
            "5 1\n",
            "4 6\n",
            "1 2\n",
            "2 17\n",
            "3 9\n"
          ],
          "name": "stdout"
        }
      ]
    },
    {
      "cell_type": "code",
      "metadata": {
        "id": "bPNm31FJMLMp",
        "colab_type": "code",
        "colab": {
          "base_uri": "https://localhost:8080/",
          "height": 51
        },
        "outputId": "28d9fa5f-2889-45d0-b9df-17421839d026"
      },
      "source": [
        "#this create the class Point\n",
        "class Point:\n",
        "\n",
        "    #this is the constructor with two parameters\n",
        "    def __init__(self, x=0, y=0):\n",
        "        '''Defines x and y variables'''\n",
        "        self.x = x\n",
        "        self.y = y\n",
        "\n",
        "    def __repr__(self):\n",
        "        ...\n",
        "        return \"Test()\"\n",
        "\n",
        "    #this method will print the object as string\n",
        "    def __str__(self):\n",
        "        '''Defines x and y variables'''\n",
        "        return \"The Point is (\"+str(self.x)+ \",\"+ str(self.y)+ \")\"\n",
        "\n",
        "    #this method will add the two objects and return a new point\n",
        "    def __add__(self, other):\n",
        "        x=self.x+other.x\n",
        "        y=self.y+other.y\n",
        "        return Point(x,y)\n",
        "\n",
        "\n",
        "p = Point(2,3)\n",
        "p1 = Point(3,4)\n",
        "print(p1)\n",
        "print(p1+p)\n"
      ],
      "execution_count": 10,
      "outputs": [
        {
          "output_type": "stream",
          "text": [
            "The Point is (3,4)\n",
            "The Point is (5,7)\n"
          ],
          "name": "stdout"
        }
      ]
    },
    {
      "cell_type": "code",
      "metadata": {
        "id": "2a2bs1JINOvT",
        "colab_type": "code",
        "colab": {
          "base_uri": "https://localhost:8080/",
          "height": 204
        },
        "outputId": "1d37cba6-3428-49e8-b93c-e82d19ad01ce"
      },
      "source": [
        "import xlrd\n",
        "\n",
        "\n",
        "#here we create the object of workbook to get the data from the xls and return the object of it\n",
        "def read_data(name):\n",
        "\n",
        "    workbook = xlrd.open_workbook(name)\n",
        "    sheet = workbook.sheet_by_index(0)\n",
        "    return sheet\n",
        "\n",
        "\n",
        "#this method will get help us to column index from column name\n",
        "def get_column_index(name):\n",
        "\tdata = read_data(\"catering_sale_all.xls\")\n",
        "\tfor i in range(data.nrows):\n",
        "\t\tfor j in range(data.ncols):\n",
        "\t\t\tprint(\"j\",j)\n",
        "\t\t\tif data.cell_value(i,j)==name:\n",
        "\t\t\t\tprint(\"j\",j)\n",
        "\t\t\t\treturn j;\n",
        "\treturn -1\n",
        "\n",
        "\n",
        "#this method will get the data and will sum it\n",
        "def sum(name):\n",
        "\tdata= read_data(\"catering_sale_all.xls\")\n",
        "\tindex=get_column_index(name)\n",
        "\tsum=0\n",
        "\tfor i in range(data.nrows):\n",
        "\t\tfor j in range(data.ncols):\n",
        "\t\t\tif j!=0 and i!=0:\n",
        "\t\t\t\tif j==index:\n",
        "\t\t\t\t\tsum+=data.cell_value(i,j)\n",
        "\treturn sum\n",
        "\n",
        "\n",
        "#in this method will take the input from the user and will show the sum\n",
        "def main():\n",
        "\tprint(\"0 exit\\n1 chicken feet\\n2 steamed dumplings\\n3 ribs\\n4 full chicken\\n5 stuffed bun\\n6 flowering cabbage\\n7 doufu\\n8 chive dumplings\\n9 pudding\\n10 original cabbage \")\n",
        "\tindex=int(input(\"please input a number in the list:\"))\n",
        "\tname=\"\"\n",
        "\tif index==1:\n",
        "\t\tname=\"chicken feet\"\n",
        "\n",
        "\telif index==2:\n",
        "\t\tname=\"steamed dumplings\"\n",
        "\telif index==3:\n",
        "\t\tname=\"rib\"\n",
        "\n",
        "\telif index==4:\n",
        "\t\tname=\"full chicken\"\n",
        "\telif index==5:\n",
        "\t\tname=\"stuffed bun\"\n",
        "\telif index==6:\n",
        "\t\tname=\"flowering cabbage\"\n",
        "\telif index==7:\n",
        "\t\tname=\"doufu\"\n",
        "\telif index==8:\n",
        "\t\tname=\"chive dumplings\"\n",
        "\telif index==9:\n",
        "\t\tname=\"pudding\"\n",
        "\telif index ==10:\n",
        "\t\tname = \"original cabbage\"\n",
        "\telse:\n",
        "\t\texit()\n",
        "\tprint(\"Total sale of \",name ,\"is\",int(sum(name)))\n",
        "\tmain()\n",
        "\n",
        "main()\n"
      ],
      "execution_count": 0,
      "outputs": [
        {
          "output_type": "stream",
          "text": [
            "0 exit\n",
            "1 chicken feet\n",
            "2 steamed dumplings\n",
            "3 ribs\n",
            "4 full chicken\n",
            "5 stuffed bun\n",
            "6 flowering cabbage\n",
            "7 doufu\n",
            "8 chive dumplings\n",
            "9 pudding\n",
            "10 original cabbage \n"
          ],
          "name": "stdout"
        }
      ]
    },
    {
      "cell_type": "code",
      "metadata": {
        "id": "K_hqeui9NlsD",
        "colab_type": "code",
        "colab": {}
      },
      "source": [
        ""
      ],
      "execution_count": 0,
      "outputs": []
    },
    {
      "cell_type": "code",
      "metadata": {
        "id": "l4sFMgiWNs_J",
        "colab_type": "code",
        "colab": {}
      },
      "source": [
        "#question 10\n",
        "import pandas as pd\n",
        "from pandas import DataFrame\n",
        "import matplotlib.pyplot as plt\n",
        "\n",
        "#this method will take the data from csv file\n",
        "def read_csv():\n",
        "    data =pd.read_csv(\"energy-production.csv\")\n",
        "    df = DataFrame(data)\n",
        "    return df;\n",
        "\n",
        "\n",
        "#this method will get the data for a specified year and will return names of column and data as list\n",
        "def get_year_data(year):\n",
        "    data_frame=read_csv()\n",
        "    year_data=data_frame.loc[data_frame[\"Year\"] == year]\n",
        "    return year_data.values.tolist(),list(data_frame.columns.values.tolist())\n",
        "\n",
        "\n",
        "#this is main method this will take the input and will call print the graph\n",
        "def main():\n",
        "    year =int(input(\"please input a year between 1973 and 2014:\"))\n",
        "\n",
        "    year_data,colum=get_year_data(year)\n",
        "\n",
        "\n",
        "    colums=[]\n",
        "    data=[]\n",
        "    print(year_data)\n",
        "    for raw in year_data:\n",
        "\n",
        "        for i in range(2,len(raw)):\n",
        "            data.append(raw[i])\n",
        "            print(\"data=\",raw[i])\n",
        "\n",
        "    for i in range(2,len(colum)):\n",
        "        colums.append(colum[i])\n",
        "    plot = plt.figure()\n",
        "    ax = plot.add_axes([0, 0, 1, 1])\n",
        "    ax.bar(colums, data)\n",
        "    plt.show()\n",
        "\n",
        "\n",
        "main()\n"
      ],
      "execution_count": 0,
      "outputs": []
    },
    {
      "cell_type": "code",
      "metadata": {
        "id": "Ls-H0JYOPFEH",
        "colab_type": "code",
        "colab": {}
      },
      "source": [
        "#Question 9\n",
        "import pymysql\n",
        "import matplotlib.pyplot as plt\n",
        "\n",
        "#this method will get connection and will return its\n",
        "def get_connection():\n",
        "\tconnection = pymysql.connect(host='localhost', user='root',passwd='',db='world')\n",
        "\treturn connection\n",
        "\n",
        "\n",
        "#in this method we will get the query result and return it\n",
        "def get_population_continent():\n",
        "\tconnection = get_connection()\n",
        "\tcursor = connection.cursor()\n",
        "\tcursor.execute(\"SELECT continent,SUM(d.Population) FROM country d LEFT JOIN city c ON c.countrycode=d.code  GROUP BY continent \")\n",
        "\tresult = cursor.fetchall()\n",
        "\treturn result\n",
        "\n",
        "\n",
        "#in this method we divide the result in 2 list and return them\n",
        "def set_data():\n",
        "    result=get_population_continent()\n",
        "    index=0;\n",
        "    names = []\n",
        "    data = []\n",
        "    for row in result:\n",
        "        names.append(row[0])\n",
        "        data.append(row[1])\n",
        "        index = index+1\n",
        "    return names, data\n",
        "\n",
        "#here we plot the graph using the data returned from the query\n",
        "def plot_graph():\n",
        "    names,data=set_data();\n",
        "    explode = (0.1, 0.1, 0.1, 0.1,0.1,0.1,0.1)  # only \"explode\" the 2nd slice (i.e. 'Hogs')\n",
        "    fig1, ax1 = plt.subplots()\n",
        "    ax1.pie(data, explode=explode, labels=names, autopct='%1.1f%%',\n",
        "            shadow=True, startangle=90)\n",
        "    ax1.axis('equal')  # Equal aspect ratio ensures that pie is drawn as a circle.\n",
        "\n",
        "    plt.show()\n",
        "\n",
        "\n",
        "plot_graph()"
      ],
      "execution_count": 0,
      "outputs": []
    },
    {
      "cell_type": "code",
      "metadata": {
        "id": "wEaMRsVWPPHW",
        "colab_type": "code",
        "colab": {}
      },
      "source": [
        "#question 9\n",
        "import pymysql\n",
        "\n",
        "\n",
        "#this method will create connectin with the database\n",
        "def get_connection():\n",
        "\tconnection = pymysql.connect(host='localhost', user='root',passwd='',db='world')\n",
        "\treturn connection\n",
        "\n",
        "\n",
        "#this method will run the queries and will return the result\n",
        "def get_average_life_by_continent():\n",
        "\tconnection = get_connection()\n",
        "\tcursor = connection.cursor()\n",
        "\tcursor.execute(\"SELECT AVG(LifeExpectancy),continent FROM country d left JOIN city c ON c.countrycode=d.code  GROUP BY continent\")\n",
        "\tresult = cursor.fetchall()\n",
        "\treturn result\n",
        "\n",
        "\n",
        "#here we get the result and print the data\n",
        "def main():\n",
        "    print(\"avglife | continent\")\n",
        "    result=get_average_life_by_continent();\n",
        "    for row in result:\n",
        "        print(row[0], \" | \", row[1])\n",
        "\n",
        "\n",
        "main()\n"
      ],
      "execution_count": 0,
      "outputs": []
    },
    {
      "cell_type": "code",
      "metadata": {
        "id": "EcJCwSv0O6Cf",
        "colab_type": "code",
        "colab": {}
      },
      "source": [
        ""
      ],
      "execution_count": 0,
      "outputs": []
    }
  ]
}